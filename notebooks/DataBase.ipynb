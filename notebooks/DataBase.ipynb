{
 "cells": [
  {
   "cell_type": "code",
   "execution_count": 1,
   "id": "f66d3ce0",
   "metadata": {},
   "outputs": [],
   "source": [
    "import pandas as pd\n",
    "import os\n",
    "import sqlite3\n",
    "%config Completer.use_jedi = False #for auto complete code"
   ]
  },
  {
   "cell_type": "code",
   "execution_count": 2,
   "id": "e1b37249",
   "metadata": {},
   "outputs": [],
   "source": [
    "directory ='../data/DZ/DZ_04_LIMA_NIV/'\n",
    "files =[directory+file for file in os.listdir(directory)]\n",
    "table_names = [file.split('.')[0] for file in os.listdir(directory)]\n",
    "#df = pd.read_excel(file,usecols='A:L', skiprows=[0])"
   ]
  },
  {
   "cell_type": "code",
   "execution_count": 3,
   "id": "841661f9",
   "metadata": {},
   "outputs": [],
   "source": [
    "conn = sqlite3.connect('../data/DZ/dz4_niveles.db')"
   ]
  },
  {
   "cell_type": "code",
   "execution_count": 4,
   "id": "002341ac",
   "metadata": {},
   "outputs": [
    {
     "name": "stderr",
     "output_type": "stream",
     "text": [
      "C:\\Users\\jose\\anaconda3\\envs\\work_env\\lib\\site-packages\\pandas\\core\\generic.py:2779: UserWarning: The spaces in these column names will not be changed. In pandas versions < 0.14, spaces were converted to underscores.\n",
      "  sql.to_sql(\n"
     ]
    }
   ],
   "source": [
    "for i,file in enumerate(files):\n",
    "    df = pd.read_excel(file,usecols='A:L')\n",
    "    df.to_sql(name = table_names[i],con=conn, if_exists='replace',index=False)\n",
    "    conn.commit()\n",
    "    \n",
    "conn.close()"
   ]
  },
  {
   "cell_type": "code",
   "execution_count": null,
   "id": "6253d385",
   "metadata": {},
   "outputs": [],
   "source": []
  },
  {
   "cell_type": "code",
   "execution_count": null,
   "id": "e12cfeeb",
   "metadata": {},
   "outputs": [],
   "source": []
  }
 ],
 "metadata": {
  "kernelspec": {
   "display_name": "Python 3 (ipykernel)",
   "language": "python",
   "name": "python3"
  },
  "language_info": {
   "codemirror_mode": {
    "name": "ipython",
    "version": 3
   },
   "file_extension": ".py",
   "mimetype": "text/x-python",
   "name": "python",
   "nbconvert_exporter": "python",
   "pygments_lexer": "ipython3",
   "version": "3.8.5"
  }
 },
 "nbformat": 4,
 "nbformat_minor": 5
}
