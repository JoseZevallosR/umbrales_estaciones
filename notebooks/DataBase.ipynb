{
 "cells": [
  {
   "cell_type": "code",
   "execution_count": 11,
   "id": "4bdffb95",
   "metadata": {},
   "outputs": [],
   "source": [
    "import pandas as pd\n",
    "import os\n",
    "import sqlite3\n",
    "%config Completer.use_jedi = False #for auto complete code"
   ]
  },
  {
   "cell_type": "code",
   "execution_count": 12,
   "id": "1f5ba9da",
   "metadata": {},
   "outputs": [],
   "source": [
    "def CreateDataBase(directory):\n",
    "    files =[directory+file for file in os.listdir(directory)]\n",
    "    table_names = ['T'+file.split('.')[0].split('_')[1] for file in os.listdir(directory)]\n",
    "\n",
    "    conn = sqlite3.connect('../data/DZ/niveles.db')\n",
    "    for i,file in enumerate(files):\n",
    "        df = pd.read_excel(file,usecols='A:L')\n",
    "        df.to_sql(name = table_names[i],con=conn, if_exists='replace',index=False)\n",
    "        conn.commit()\n",
    "\n",
    "    conn.close()"
   ]
  },
  {
   "cell_type": "code",
   "execution_count": null,
   "id": "4a4151ba",
   "metadata": {},
   "outputs": [],
   "source": [
    "directory ='../data/DZ/DZ_04_LIMA_NIV/'\n",
    "CreateDataBase(directory)"
   ]
  },
  {
   "cell_type": "code",
   "execution_count": null,
   "id": "b01b14a7",
   "metadata": {},
   "outputs": [],
   "source": [
    "directory ='../data/DZ/DZ_09_SAN_MARTIN_NIV/'\n",
    "CreateDataBase(directory)"
   ]
  },
  {
   "cell_type": "code",
   "execution_count": null,
   "id": "6823c146",
   "metadata": {},
   "outputs": [],
   "source": []
  }
 ],
 "metadata": {
  "kernelspec": {
   "display_name": "Python 3 (ipykernel)",
   "language": "python",
   "name": "python3"
  },
  "language_info": {
   "codemirror_mode": {
    "name": "ipython",
    "version": 3
   },
   "file_extension": ".py",
   "mimetype": "text/x-python",
   "name": "python",
   "nbconvert_exporter": "python",
   "pygments_lexer": "ipython3",
   "version": "3.8.5"
  }
 },
 "nbformat": 4,
 "nbformat_minor": 5
}
