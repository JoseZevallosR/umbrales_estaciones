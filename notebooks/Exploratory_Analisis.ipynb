{
 "cells": [
  {
   "cell_type": "code",
   "execution_count": 8,
   "id": "cdd45ecf",
   "metadata": {},
   "outputs": [],
   "source": [
    "import pandas as pd\n",
    "import os\n",
    "import sqlite3\n",
    "import matplotlib.pylab as plt\n",
    "%config Completer.use_jedi = False #for auto complete code"
   ]
  },
  {
   "cell_type": "code",
   "execution_count": 25,
   "id": "d638b792",
   "metadata": {},
   "outputs": [],
   "source": [
    "def tables_in_sqlite_db(conn):\n",
    "    cursor = conn.execute(\"SELECT name FROM sqlite_master WHERE type='table';\")\n",
    "    tables = [\n",
    "        v[0] for v in cursor.fetchall()\n",
    "        if v[0] != \"sqlite_sequence\"\n",
    "    ]\n",
    "    cursor.close()\n",
    "    return tables"
   ]
  },
  {
   "cell_type": "code",
   "execution_count": 26,
   "id": "046be454",
   "metadata": {},
   "outputs": [],
   "source": [
    "conn = sqlite3.connect('../data/DZ/niveles.db')"
   ]
  },
  {
   "cell_type": "code",
   "execution_count": 27,
   "id": "b605715c",
   "metadata": {},
   "outputs": [],
   "source": [
    "tables = tables_in_sqlite_db(conn)"
   ]
  },
  {
   "cell_type": "code",
   "execution_count": 44,
   "id": "87cfdfae",
   "metadata": {},
   "outputs": [],
   "source": [
    "tables"
   ]
  },
  {
   "cell_type": "code",
   "execution_count": 36,
   "id": "38ea48c6",
   "metadata": {},
   "outputs": [],
   "source": [
    "sql_query= \"SELECT * FROM \"+tables[-16]\n",
    "df = pd.read_sql(sql_query, conn)"
   ]
  },
  {
   "cell_type": "code",
   "execution_count": 43,
   "id": "f3f37cd0",
   "metadata": {},
   "outputs": [
    {
     "data": {
      "text/plain": [
       "<AxesSubplot:>"
      ]
     },
     "execution_count": 43,
     "metadata": {},
     "output_type": "execute_result"
    },
    {
     "data": {
      "image/png": "[encoded data removed]",
      "text/plain": [
       "<Figure size 432x288 with 1 Axes>"
      ]
     },
     "metadata": {
      "needs_background": "light"
     },
     "output_type": "display_data"
    }
   ],
   "source": [
    "df['Nivel Med'].plot()"
   ]
  },
  {
   "cell_type": "code",
   "execution_count": 41,
   "id": "1278e179",
   "metadata": {},
   "outputs": [
    {
     "data": {
      "text/plain": [
       "Index(['Codigo', 'Estacion', 'Fecha Reg', 'año', 'mes', 'dia', 'Nivel 06h',\n",
       "       'Nivel 10h', 'Nivel 14h', 'Nivel 18h', 'Nivel Med', 'Caudal'],\n",
       "      dtype='object')"
      ]
     },
     "execution_count": 41,
     "metadata": {},
     "output_type": "execute_result"
    }
   ],
   "source": [
    "df.columns"
   ]
  },
  {
   "cell_type": "code",
   "execution_count": null,
   "id": "01282610",
   "metadata": {},
   "outputs": [],
   "source": []
  }
 ],
 "metadata": {
  "kernelspec": {
   "display_name": "Python 3 (ipykernel)",
   "language": "python",
   "name": "python3"
  },
  "language_info": {
   "codemirror_mode": {
    "name": "ipython",
    "version": 3
   },
   "file_extension": ".py",
   "mimetype": "text/x-python",
   "name": "python",
   "nbconvert_exporter": "python",
   "pygments_lexer": "ipython3",
   "version": "3.8.5"
  }
 },
 "nbformat": 4,
 "nbformat_minor": 5
}
