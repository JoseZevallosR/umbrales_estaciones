{
 "cells": [
  {
   "cell_type": "code",
   "execution_count": 1,
   "id": "5e6e87bf",
   "metadata": {},
   "outputs": [],
   "source": [
    "import pandas as pd\n",
    "import os\n",
    "import sqlite3\n",
    "import matplotlib.pylab as plt\n",
    "%config Completer.use_jedi = False #for auto complete code"
   ]
  },
  {
   "cell_type": "code",
   "execution_count": 2,
   "id": "2ced62e9",
   "metadata": {},
   "outputs": [],
   "source": [
    "def tables_in_sqlite_db(conn):\n",
    "    cursor = conn.execute(\"SELECT name FROM sqlite_master WHERE type='table';\")\n",
    "    tables = [\n",
    "        v[0] for v in cursor.fetchall()\n",
    "        if v[0] != \"sqlite_sequence\"\n",
    "    ]\n",
    "    cursor.close()\n",
    "    return tables"
   ]
  },
  {
   "cell_type": "code",
   "execution_count": 3,
   "id": "5fa5aea4",
   "metadata": {},
   "outputs": [],
   "source": [
    "conn = sqlite3.connect('../data/DZ/dz4_niveles.db')"
   ]
  },
  {
   "cell_type": "code",
   "execution_count": 4,
   "id": "5adeacd9",
   "metadata": {},
   "outputs": [],
   "source": [
    "tables = tables_in_sqlite_db(conn)"
   ]
  },
  {
   "cell_type": "code",
   "execution_count": null,
   "id": "028254e7",
   "metadata": {},
   "outputs": [],
   "source": []
  }
 ],
 "metadata": {
  "kernelspec": {
   "display_name": "Python 3 (ipykernel)",
   "language": "python",
   "name": "python3"
  },
  "language_info": {
   "codemirror_mode": {
    "name": "ipython",
    "version": 3
   },
   "file_extension": ".py",
   "mimetype": "text/x-python",
   "name": "python",
   "nbconvert_exporter": "python",
   "pygments_lexer": "ipython3",
   "version": "3.8.5"
  }
 },
 "nbformat": 4,
 "nbformat_minor": 5
}
