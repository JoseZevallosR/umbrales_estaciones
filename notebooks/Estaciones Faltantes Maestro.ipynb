{
 "cells": [
  {
   "cell_type": "code",
   "execution_count": 1,
   "id": "638f930b",
   "metadata": {},
   "outputs": [],
   "source": [
    "import sys\n",
    "sys.path.insert(0, '../src')\n",
    "from gauges import *\n",
    "\n",
    "%config Completer.use_jedi = False #for auto complete code"
   ]
  },
  {
   "cell_type": "code",
   "execution_count": 3,
   "id": "5be1b242",
   "metadata": {},
   "outputs": [],
   "source": [
    "conn = sqlite3.connect('../data/DZ/niveles.db')\n",
    "cuencas_shp=gpd.read_file('../data/shp/cuencas/UH.shp')\n",
    "Estacion_convencional=Convencional(database=conn)"
   ]
  },
  {
   "cell_type": "code",
   "execution_count": 4,
   "id": "c2c4c4b9",
   "metadata": {},
   "outputs": [
    {
     "name": "stdout",
     "output_type": "stream",
     "text": [
      "se encuentra en el maestro: T211404 y nombre SAN_PEDRO CONVENCIONAL\n",
      "se encuentra en el maestro: T202404 y nombre CAHUA CONVENCIONAL\n",
      "se encuentra en el maestro: T202607 y nombre PICOY CONVENCIONAL\n",
      "se encuentra en el maestro: T202601 y nombre LAGUNA_SURASACA CONVENCIONAL\n",
      "se encuentra en el maestro: T212301 y nombre SAYAN CONVENCIONAL\n",
      "se encuentra en el maestro: T202701 y nombre SANTO_DOMINGO CONVENCIONAL\n",
      "se encuentra en el maestro: T202802 y nombre OBRAJILLO CONVENCIONAL\n",
      "se encuentra en el maestro: T202801 y nombre PARIACANCHA CONVENCIONAL\n",
      "se encuentra en el maestro: T111151 y nombre PUENTE_MAGDALENA CONVENCIONAL\n",
      "se encuentra en el maestro: T202903 y nombre AUTISHA CONVENCIONAL\n",
      "se encuentra en el maestro: T202902 y nombre MILLOC CONVENCIONAL\n",
      "se encuentra en el maestro: T202904 y nombre RIO_BLANCO CONVENCIONAL\n",
      "se encuentra en el maestro: T202905 y nombre SAN_MATEO CONVENCIONAL\n",
      "se encuentra en el maestro: T202906 y nombre CHOSICA CONVENCIONAL\n",
      "se encuentra en el maestro: T202910 y nombre PUENTE_HUACHIPA CONVENCIONAL\n",
      "se encuentra en el maestro: T202930 y nombre SANTA_EULALIA CONVENCIONAL\n",
      "se encuentra en el maestro: T203003 y nombre ANTAPUCRO CONVENCIONAL\n",
      "se encuentra en el maestro: T203101 y nombre LA_CAPILLA CONVENCIONAL\n",
      "se encuentra en el maestro: T203303 y nombre PACARAN CONVENCIONAL\n",
      "se encuentra en el maestro: T203302 y nombre SOCSI CONVENCIONAL\n",
      "se encuentra en el maestro: T230801 y nombre RIO_PALLANGA CONVENCIONAL\n",
      "se encuentra en el maestro: T230803 y nombre RUMICHACA CONVENCIONAL\n",
      "se encuentra en el maestro: T221821 y nombre CAMPANILLA CONVENCIONAL\n",
      "se encuentra en el maestro: T230715 y nombre PICOTA CONVENCIONAL\n",
      "se encuentra en el maestro: T221813 y nombre SHAMBOYACU CONVENCIONAL\n",
      "se encuentra en el maestro: T221806 y nombre LAGUNA_SAUCE CONVENCIONAL\n",
      "se encuentra en el maestro: T230504 y nombre HUAYABAMBA CONVENCIONAL\n",
      "se encuentra en el maestro: T230601 y nombre CHAZUTA CONVENCIONAL\n",
      "se encuentra en el maestro: T221802 y nombre SHANAO CONVENCIONAL\n",
      "se encuentra en el maestro: T221801 y nombre CUMBAZA CONVENCIONAL\n",
      "se encuentra en el maestro: T221804 y nombre BIAVO CONVENCIONAL\n"
     ]
    }
   ],
   "source": [
    "Maestro=Estacion_convencional.get_Maestro()\n",
    "\n",
    "directory ='../data/DZ/DZ_04_LIMA_NIV/'\n",
    "table_names = [file.split('.')[0].split('_')[1] for file in os.listdir(directory)]\n",
    "tables = tables_in_sqlite_db(conn)\n",
    "#for i,code in enumerate(table_names):\n",
    "#    print(code,Maestro[Maestro.CODIGO==code][['DZ','NOMBRE_ESTACION']])\n",
    "\n",
    "\n",
    "filtro=Maestro[Maestro.DZ==4]\n",
    "name=list(filtro.NOMBRE_ESTACION+' '+filtro.CATEGORIA)\n",
    "for i,estacion in enumerate(filtro.CODIGO):\n",
    "    estacion='T'+str(estacion)\n",
    "    if estacion in tables:\n",
    "        #print(estacion,name[i])\n",
    "        print(f'se encuentra en el maestro: {estacion} y nombre {name[i]}')\n",
    "        tables.remove(estacion)\n",
    "        pass\n",
    "    else:\n",
    "        #print(f'no se encuentra en el maestro: {tables[i]}')\n",
    "        pass\n",
    "        \n",
    "directory ='../data/DZ/DZ_09_SAN_MARTIN_NIV/'\n",
    "table_names = [file.split('.')[0].split('_')[1] for file in os.listdir(directory)]\n",
    "filtro=Maestro[Maestro.DZ==9]\n",
    "name=list(filtro.NOMBRE_ESTACION+' '+filtro.CATEGORIA)\n",
    "for i,estacion in enumerate(filtro.CODIGO):\n",
    "    estacion='T'+str(estacion)\n",
    "    if estacion in tables:\n",
    "        #print(estacion,name[i])\n",
    "        print(f'se encuentra en el maestro: {estacion} y nombre {name[i]}')\n",
    "        tables.remove(estacion)\n",
    "        pass\n",
    "    else:\n",
    "        #print(f'no se encuentra en el maestro: {tables[i]}')\n",
    "        pass"
   ]
  }
 ],
 "metadata": {
  "kernelspec": {
   "display_name": "Python 3 (ipykernel)",
   "language": "python",
   "name": "python3"
  },
  "language_info": {
   "codemirror_mode": {
    "name": "ipython",
    "version": 3
   },
   "file_extension": ".py",
   "mimetype": "text/x-python",
   "name": "python",
   "nbconvert_exporter": "python",
   "pygments_lexer": "ipython3",
   "version": "3.8.5"
  }
 },
 "nbformat": 4,
 "nbformat_minor": 5
}
